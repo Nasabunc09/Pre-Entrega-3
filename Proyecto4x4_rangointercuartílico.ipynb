{
  "nbformat": 4,
  "nbformat_minor": 0,
  "metadata": {
    "colab": {
      "provenance": [],
      "authorship_tag": "ABX9TyNm+qGuLlWU3uunyCYEpWT1",
      "include_colab_link": true
    },
    "kernelspec": {
      "name": "python3",
      "display_name": "Python 3"
    },
    "language_info": {
      "name": "python"
    }
  },
  "cells": [
    {
      "cell_type": "markdown",
      "metadata": {
        "id": "view-in-github",
        "colab_type": "text"
      },
      "source": [
        "<a href=\"https://colab.research.google.com/github/antonellafontanetto/Pre-Entrega-3/blob/main/Proyecto4x4_rangointercuart%C3%ADlico.ipynb\" target=\"_parent\"><img src=\"https://colab.research.google.com/assets/colab-badge.svg\" alt=\"Open In Colab\"/></a>"
      ]
    },
    {
      "cell_type": "markdown",
      "source": [
        "Proyecto 4x4 YPF - Primer pilar Vaca Muerta\n",
        "El proyecto de modelado busca seguir la linea de pensamiento de desarrollo de la compañía YPF, en la actualidad este proyecto plantea cuadruplicar el crecimiento de la firma en los próximos 4 años. En primordial que este objetivo esta centrado en 4 pilares, del cual solo vamos a focalizar en el primero, que es el crecimiento de Vaca Muerta a corto plazo.\n",
        "\n",
        "La estrategia se basa en reducir costos operativos, optimizar los tiempos de perforación y adoptar un enfoque más eficiente en la gestión financiera. La compañía ha logrado reducir los tiempos de perforación de aproximadamente un año a 170 días, mediante mejoras técnicas y operativas.\n",
        "\n",
        "Este plan de transformación busca posicionar a YPF como una empresa más eficiente, rentable y alineada con las tendencias internacionales del sector energético, con una visión clara en el desarrollo del shale en Argentina.\n",
        "\n",
        "Modelado\n",
        "En la pre entrega 2, realizamos la transformación de todas las features utilizando One Hot Encoder, ahora vamos a limpiar y decidir en función al análisis exploratorio que features tener en consideración para el modelado.\n",
        "\n",
        "Como observamos anteriormente tanto la producción de petróleo como la producción de gas son dos datos que queremos predecir para los próximos 4 años, sin embargo el análisis estará centrado en la Cuenca Neuquina, es decir, Vaca Muerta y las cinco principales áreas de permiso de concesión tanto para la producción de petróleo como para la producción de gas.\n",
        "\n",
        "Así como también tenemos que mencionar que el dataset está centrado únicamente en la producción de lo no convencional, es decir, de aquella extracción que requiere tecnologías más avanzadas, costosas o intensivas en recursos debido a las características del yacimiento o del propio hidrocarburo.\n",
        "\n",
        "Finalmente, cabe mencionar que la producción de petróleo y gas se sujeta a dos subtipos de recursos, estos son shale y tight, los mismos se diferencian según el tipo de roca y suelen requerir técnicas como la fractura hidráulica (fracking) para su extracción. Mientras que el shale se extrae de la roca sedimentaria rica en materia orgánica que actúa como fuente y reservorio del hidrocarburo, el tight se encuentra en rocas porosas pero de baja permeabilidad, como areniscas o calizas muy cementadas."
      ],
      "metadata": {
        "id": "SxmIti5keo86"
      }
    },
    {
      "cell_type": "code",
      "execution_count": null,
      "metadata": {
        "id": "DeOFXnMrXFpk"
      },
      "outputs": [],
      "source": [
        "#descargamos todas las librerías necesarias para el desarrollo del proyecto\n",
        "import pandas as pd\n",
        "import numpy as np\n",
        "import matplotlib.pyplot as plt\n",
        "import seaborn as sns\n",
        "from scipy import stats"
      ]
    },
    {
      "cell_type": "code",
      "source": [
        "#Cargamos el dataset transformado en la segunda pre-entrega\n",
        "Produccion_ypf = pd.read_csv('/content/prod_encoded_df.csv')\n",
        "\n",
        "#Aplicamos la función head() para visualizar las primeras 5 observaciones del dataset\n",
        "Produccion_ypf.head().astype(int)"
      ],
      "metadata": {
        "id": "yeTfz4azevFM"
      },
      "execution_count": null,
      "outputs": []
    },
    {
      "cell_type": "code",
      "source": [
        "# prompt: generame un histograma para la columna Producción de Petroleo y Producción de gas\n",
        "\n",
        "import matplotlib.pyplot as plt\n",
        "plt.figure(figsize=(12, 6))\n",
        "\n",
        "plt.subplot(1, 2, 1)\n",
        "sns.histplot(Produccion_ypf['Produccion de Petroleo'], kde=True, bins=30)\n",
        "plt.title('Distribución de Producción de Petróleo')\n",
        "plt.xlabel('Producción de Petróleo')\n",
        "plt.ylabel('Frecuencia')\n",
        "\n",
        "plt.subplot(1, 2, 2)\n",
        "sns.histplot(Produccion_ypf['Produccion de Gas'], kde=True, bins=30)\n",
        "plt.title('Distribución de Producción de Gas')\n",
        "plt.xlabel('Producción de Gas')\n",
        "plt.ylabel('Frecuencia')\n",
        "\n",
        "plt.tight_layout()\n",
        "plt.show()"
      ],
      "metadata": {
        "id": "E5oz8WTteyky"
      },
      "execution_count": null,
      "outputs": []
    },
    {
      "cell_type": "code",
      "source": [
        "# prompt: Calcular rango intercuatilico para produccion de petroleo y gas\n",
        "\n",
        "# Calcular el Rango Intercuartílico (IQR) para la Producción de Petróleo y Gas\n",
        "Q1_petroleo = Produccion_ypf['Produccion de Petroleo'].quantile(0.25)\n",
        "Q3_petroleo = Produccion_ypf['Produccion de Petroleo'].quantile(0.75)\n",
        "IQR_petroleo = Q3_petroleo - Q1_petroleo\n",
        "\n",
        "Q1_gas = Produccion_ypf['Produccion de Gas'].quantile(0.25)\n",
        "Q3_gas = Produccion_ypf['Produccion de Gas'].quantile(0.75)\n",
        "IQR_gas = Q3_gas - Q1_gas\n",
        "\n",
        "print(f\"Rango Intercuartílico para Producción de Petróleo: {IQR_petroleo}\")\n",
        "print(f\"Rango Intercuartílico para Producción de Gas: {IQR_gas}\")"
      ],
      "metadata": {
        "id": "RUApKPqme3Qt"
      },
      "execution_count": null,
      "outputs": []
    },
    {
      "cell_type": "code",
      "source": [
        "# prompt: graficame los rangos intercuartilicos anteriores\n",
        "\n",
        "import matplotlib.pyplot as plt\n",
        "# Crear un boxplot para visualizar los rangos intercuartílicos\n",
        "plt.figure(figsize=(8, 6))\n",
        "sns.boxplot(data=Produccion_ypf[['Produccion de Petroleo', 'Produccion de Gas']])\n",
        "plt.title('Boxplot de Producción de Petróleo y Gas con IQR')\n",
        "plt.ylabel('Producción')\n",
        "plt.show()"
      ],
      "metadata": {
        "id": "Ywm_IY0ie4LB"
      },
      "execution_count": null,
      "outputs": []
    },
    {
      "cell_type": "code",
      "source": [
        "#Calculamos el valor maximo y minimo de produccion de petroleo y gas\n",
        "\n",
        "max_produccion_petroleo = Produccion_ypf['Produccion de Petroleo'].max()\n",
        "min_produccion_petroleo = Produccion_ypf['Produccion de Petroleo'].min()\n",
        "\n",
        "max_produccion_gas = Produccion_ypf['Produccion de Gas'].max()\n",
        "min_produccion_gas = Produccion_ypf['Produccion de Gas'].min()\n",
        "\n",
        "print(f\"Valor máximo de producción de petróleo: {max_produccion_petroleo}\")\n",
        "print(f\"Valor mínimo de producción de petróleo: {min_produccion_petroleo}\")\n",
        "print(f\"Valor máximo de producción de gas: {max_produccion_gas}\")\n",
        "print(f\"Valor mínimo de producción de gas: {min_produccion_gas}\")"
      ],
      "metadata": {
        "id": "6ZHXk_Z_e81T"
      },
      "execution_count": null,
      "outputs": []
    },
    {
      "cell_type": "code",
      "source": [
        "#Calculamos la media para produccion de petroleo y produccion de gas con los valores nulos\n",
        "\n",
        "print(\"Media para 'Produccion de Petroleo' incluyendo nulos:\", Produccion_ypf['Produccion de Petroleo'].mean())\n",
        "print(\"Media para 'Produccion de Gas' incluyendo nulos:\", Produccion_ypf['Produccion de Gas'].mean())"
      ],
      "metadata": {
        "id": "xz38n0Hde_fC"
      },
      "execution_count": null,
      "outputs": []
    },
    {
      "cell_type": "code",
      "source": [
        "media_petroleo_sin_ceros = Produccion_ypf['Produccion de Petroleo'][(Produccion_ypf['Produccion de Petroleo'] != 0)].mean()\n",
        "media_gas_sin_ceros = Produccion_ypf['Produccion de Gas'][(Produccion_ypf['Produccion de Gas'] != 0)].mean()\n",
        "\n",
        "print(f\"Media para 'Produccion de Petroleo' sin ceros: {media_petroleo_sin_ceros}\")\n",
        "print(f\"Media para 'Produccion de Gas' sin ceros: {media_gas_sin_ceros}\")"
      ],
      "metadata": {
        "id": "FCC28VMJfB96"
      },
      "execution_count": null,
      "outputs": []
    },
    {
      "cell_type": "code",
      "source": [
        "#Calculamos la mediana para produccion de petroleo y produccion de gas\n",
        "\n",
        "# Calcula la mediana de 'Produccion de Petroleo'\n",
        "mediana_petroleo = Produccion_ypf['Produccion de Petroleo'].median()\n",
        "\n",
        "# Calcula la mediana de 'Produccion de Gas'\n",
        "mediana_gas = Produccion_ypf['Produccion de Gas'].median()\n",
        "\n",
        "print(f\"Mediana de Producción de Petróleo: {mediana_petroleo}\")\n",
        "print(f\"Mediana de Producción de Gas: {mediana_gas}\")"
      ],
      "metadata": {
        "id": "7jG3fExHfEZ6"
      },
      "execution_count": null,
      "outputs": []
    },
    {
      "cell_type": "code",
      "source": [
        "# Función para crear un filtro basado en el IQR\n",
        "def filtrar_por_iqr(columna):\n",
        "    Q1 = columna.quantile(0.25)\n",
        "    Q3 = columna.quantile(0.75)\n",
        "    IQR = Q3 - Q1\n",
        "    return columna.between(Q1, Q3)\n",
        "\n",
        "# Aplicar filtro IQR a las columnas de interés\n",
        "filtro_petroleo = filtrar_por_iqr(Produccion_ypf['Produccion de Petroleo'])\n",
        "filtro_gas = filtrar_por_iqr(Produccion_ypf['Produccion de Gas'])\n",
        "\n",
        "# Conservar solo las filas donde ambas columnas estén dentro del IQR\n",
        "Produccion_ypf_filtrado = Produccion_ypf[filtro_petroleo & filtro_gas]"
      ],
      "metadata": {
        "id": "sOjVkEv5fG_y"
      },
      "execution_count": null,
      "outputs": []
    },
    {
      "cell_type": "code",
      "source": [
        "\n",
        "Produccion_ypf_filtrado.head(20)\n"
      ],
      "metadata": {
        "id": "tfEhW0dUfIJO"
      },
      "execution_count": null,
      "outputs": []
    },
    {
      "cell_type": "code",
      "source": [
        "#Con la función columns podemos observar mejor el nombre de todas las columnas del dataset, que en este caso son 47 columnas\n",
        "Produccion_ypf.columns.tolist()"
      ],
      "metadata": {
        "id": "-ccLbw6hfL8u"
      },
      "execution_count": null,
      "outputs": []
    },
    {
      "cell_type": "code",
      "source": [
        "#Creamos una copia del dataset original\n",
        "Produccion_ypf_copia = Produccion_ypf.copy()\n",
        "\n",
        "columnas_a_eliminar = [\n",
        "    'Tipo de pozo_Inyección de Agua',\n",
        "    'Tipo de pozo_Otro tipo',\n",
        "    'Tipo de pozo_Sumidero',\n",
        "    'Tipo de recurso_NO CONVENCIONAL',\n",
        "    'Producción de agua',\n",
        "    'Area de permiso de concesion_AGUADA DEL CHAÑAR',\n",
        "    'Area de permiso de concesion_AL NORTE DE LA DORSAL',\n",
        "    'Area de permiso de concesion_BAJO DEL TORO',\n",
        "    'Area de permiso de concesion_CERRO ARENA ',\n",
        "    'Area de permiso de concesion_CERRO LAS MINAS ',\n",
        "    'Area de permiso de concesion_CERRO MANRIQUE',\n",
        "    'Area de permiso de concesion_CHIHUIDO DE LA SIERRA NEGRA',\n",
        "    'Area de permiso de concesion_CN VII A',\n",
        "    'Area de permiso de concesion_DADIN',\n",
        "    'Area de permiso de concesion_BAJO DEL TORO NORTE',\n",
        "    'Area de permiso de concesion_ESTACION FERNANDEZ ORO',\n",
        "    'Area de permiso de concesion_FILO MORADO',\n",
        "    'Area de permiso de concesion_LA ANGOSTURA SUR I',\n",
        "    'Area de permiso de concesion_LA ANGOSTURA SUR II',\n",
        "    'Area de permiso de concesion_LA RIBERA BLOQUE I',\n",
        "    'Area de permiso de concesion_LA RIBERA BLOQUE II',\n",
        "    'Area de permiso de concesion_LAS TACANAS'\n",
        "]\n",
        "\n",
        "#Con la función drop eliminamos las columnas que consideramos que no son necesarias para el análisis, en este caso solo dejamos las principales áreas de permiso de concesión por producción de petróleo y gas\n",
        "Produccion_ypf = Produccion_ypf.drop(columns=columnas_a_eliminar, errors='ignore')\n",
        "\n",
        "Produccion_ypf.head()\n",
        ""
      ],
      "metadata": {
        "id": "7LYosRLtfQxa"
      },
      "execution_count": null,
      "outputs": []
    },
    {
      "cell_type": "code",
      "source": [
        "Produccion_ypf.astype(int) #aplicamos astype para visualizar los datos en números enteros"
      ],
      "metadata": {
        "id": "YN5K60CUfTsq"
      },
      "execution_count": null,
      "outputs": []
    },
    {
      "cell_type": "code",
      "source": [
        "Produccion_ypf.columns.tolist() #Nuevamente aplicamos la función columns para visualizar como quedó el dataset con las columnas eliminadas, ahora son 29 columnas\n",
        ""
      ],
      "metadata": {
        "id": "16BORlMSfWd-"
      },
      "execution_count": null,
      "outputs": []
    },
    {
      "cell_type": "markdown",
      "source": [
        "### **Regresión Lineal**"
      ],
      "metadata": {
        "id": "WGFJSG9YfYXW"
      }
    },
    {
      "cell_type": "code",
      "source": [
        "Produccion_ypf_copia2 = Produccion_ypf.copy() #es la copia del dataframe nuevo que si contiene Produccion de petróleo y Producción de gas\n",
        ""
      ],
      "metadata": {
        "id": "eTiXPbDHfc-x"
      },
      "execution_count": null,
      "outputs": []
    },
    {
      "cell_type": "code",
      "source": [
        "x = Produccion_ypf_filtrado.drop(['Produccion de Petroleo','Produccion de Gas'], axis=1)"
      ],
      "metadata": {
        "id": "oUUm9KavfgHG"
      },
      "execution_count": null,
      "outputs": []
    },
    {
      "cell_type": "code",
      "source": [
        "x.head()"
      ],
      "metadata": {
        "id": "DQ-ZwDb9fis2"
      },
      "execution_count": null,
      "outputs": []
    },
    {
      "cell_type": "code",
      "source": [
        "lista_atributos = x.columns"
      ],
      "metadata": {
        "id": "FL4V2oJ3fnAi"
      },
      "execution_count": null,
      "outputs": []
    },
    {
      "cell_type": "code",
      "source": [
        "y = Produccion_ypf_filtrado[['Produccion de Petroleo','Produccion de Gas']]"
      ],
      "metadata": {
        "id": "DJE5c_1Dfqoy"
      },
      "execution_count": null,
      "outputs": []
    },
    {
      "cell_type": "code",
      "source": [
        "x, y =np.array(x), np.array(y)"
      ],
      "metadata": {
        "id": "9o7M1fMaftku"
      },
      "execution_count": null,
      "outputs": []
    },
    {
      "cell_type": "code",
      "source": [
        "x"
      ],
      "metadata": {
        "id": "IfRqGikrfw-2"
      },
      "execution_count": null,
      "outputs": []
    },
    {
      "cell_type": "code",
      "source": [
        "y[:10]"
      ],
      "metadata": {
        "id": "IRw7lyoTfzQ7"
      },
      "execution_count": null,
      "outputs": []
    },
    {
      "cell_type": "code",
      "source": [
        "# Importamos la librearia para separar el dataset.\n",
        "from sklearn.model_selection import train_test_split"
      ],
      "metadata": {
        "id": "Ce49i9ocf2N6"
      },
      "execution_count": null,
      "outputs": []
    },
    {
      "cell_type": "code",
      "source": [
        "X_train, X_test, y_train, y_test = train_test_split(x, y, test_size=0.2,\n",
        "                                                    random_state=42)  #un numero aleatorio para fijar cuantas veces testeamos"
      ],
      "metadata": {
        "id": "6rEbCxskf6Zn"
      },
      "execution_count": null,
      "outputs": []
    },
    {
      "cell_type": "code",
      "source": [
        "x.shape"
      ],
      "metadata": {
        "id": "yixXxbslf9X7"
      },
      "execution_count": null,
      "outputs": []
    },
    {
      "cell_type": "code",
      "source": [
        "X_train.shape"
      ],
      "metadata": {
        "id": "CqP6x2Vef-Kx"
      },
      "execution_count": null,
      "outputs": []
    },
    {
      "cell_type": "code",
      "source": [
        "y_test.shape"
      ],
      "metadata": {
        "id": "jPL3xNTngAVJ"
      },
      "execution_count": null,
      "outputs": []
    },
    {
      "cell_type": "code",
      "source": [
        "X_test.shape"
      ],
      "metadata": {
        "id": "3V26_KAsgDCT"
      },
      "execution_count": null,
      "outputs": []
    },
    {
      "cell_type": "code",
      "source": [
        "from sklearn.linear_model import LinearRegression\n",
        "\n",
        "# Crear el modelo\n",
        "model = LinearRegression()\n",
        "\n",
        "# Entrenar el modelo\n",
        "model.fit(X_train, y_train)"
      ],
      "metadata": {
        "id": "FEaiZisIgHol"
      },
      "execution_count": null,
      "outputs": []
    },
    {
      "cell_type": "code",
      "source": [
        "import pandas as pd\n",
        "import matplotlib.pyplot as plt\n",
        "# Predecir en el conjunto de prueba\n",
        "y_pred = model.predict(X_test)\n",
        "\n",
        "# Calcular los residuos\n",
        "residuals = y_test - y_pred\n",
        "\n",
        "# Crear un DataFrame con los residuos para facilitar el ploteo\n",
        "residuals_df = pd.DataFrame(residuals, columns=['Residuos Petroleo', 'Residuos Gas'])\n",
        "\n",
        "# Crear boxplots para los residuos\n",
        "plt.figure(figsize=(10, 6))\n",
        "sns.boxplot(data=residuals_df)\n",
        "plt.title('Análisis de Residuos - Boxplot')\n",
        "plt.ylabel('Residuos')\n",
        "plt.show()"
      ],
      "metadata": {
        "id": "Ips4Eqt_gK0-"
      },
      "execution_count": null,
      "outputs": []
    },
    {
      "cell_type": "code",
      "source": [
        "import matplotlib.pyplot as plt\n",
        "# Asumiendo que ya tienes un modelo de regresión entrenado (ej: RandomForestRegressor)\n",
        "# Aquí se muestra un ejemplo genérico de cómo podrías generar y visualizar las predicciones.\n",
        "# Necesitarás tener un modelo entrenado llamado 'model'.\n",
        "\n",
        "# Si no tienes un modelo entrenado, descomenta las siguientes líneas y adapta el código:\n",
        "# from sklearn.ensemble import RandomForestRegressor\n",
        "# model = RandomForestRegressor(n_estimators=100, random_state=42)\n",
        "# model.fit(X_train, y_train)\n",
        "\n",
        "# Hacer predicciones en el conjunto de prueba\n",
        "y_pred = model.predict(X_test)\n",
        "\n",
        "# Visualizar los resultados para 'Produccion de Petroleo' (primera columna de y)\n",
        "plt.figure(figsize=(8, 5))\n",
        "plt.scatter(y_test[:, 0], y_pred[:, 0], alpha=0.5)\n",
        "plt.xlabel('Producción de Petróleo Real')\n",
        "plt.ylabel('Producción de Petróleo Predicha')\n",
        "plt.title('Producción de Petróleo Real vs. Predicha (Random Forest)')\n",
        "plt.grid(True)\n",
        "plt.show()\n",
        "\n",
        "# Visualizar los resultados para 'Produccion de Gas' (segunda columna de y)\n",
        "plt.figure(figsize=(8, 5))\n",
        "plt.scatter(y_test[:, 1], y_pred[:, 1], alpha=0.5, color='orange')\n",
        "plt.xlabel('Producción de Gas Real')\n",
        "plt.ylabel('Producción de Gas Predicha')\n",
        "plt.title('Producción de Gas Real vs. Predicha (Random Forest)')\n",
        "plt.grid(True)\n",
        "plt.show()\n",
        "\n",
        "# También puedes visualizar la distribución de los errores\n",
        "errors_petroleo = y_test[:, 0] - y_pred[:, 0]\n",
        "errors_gas = y_test[:, 1] - y_pred[:, 1]\n",
        "\n",
        "plt.figure(figsize=(8, 5))\n",
        "sns.histplot(errors_petroleo, kde=True, label='Errores Petróleo')\n",
        "sns.histplot(errors_gas, kde=True, label='Errores Gas', color='orange')\n",
        "plt.xlabel('Errores de Predicción')\n",
        "plt.ylabel('Frecuencia')\n",
        "plt.title('Distribución de los Errores de Predicción')\n",
        "plt.legend()\n",
        "plt.grid(True)\n",
        "plt.show()\n"
      ],
      "metadata": {
        "id": "uA5gUvTKgRNW"
      },
      "execution_count": null,
      "outputs": []
    },
    {
      "cell_type": "markdown",
      "source": [
        "### **Random Forest**"
      ],
      "metadata": {
        "id": "Ds2hWV5OgT07"
      }
    },
    {
      "cell_type": "code",
      "source": [
        "from sklearn.ensemble import RandomForestRegressor"
      ],
      "metadata": {
        "id": "akcIjrXigX2G"
      },
      "execution_count": null,
      "outputs": []
    },
    {
      "cell_type": "code",
      "source": [
        "from sklearn.metrics import mean_absolute_error"
      ],
      "metadata": {
        "id": "7KWRy150gakB"
      },
      "execution_count": null,
      "outputs": []
    },
    {
      "cell_type": "code",
      "source": [
        "# Inicializo el modelo\n",
        "regresor = RandomForestRegressor(criterion='absolute_error', random_state=25, n_estimators=20,max_depth=5,max_features='sqrt')"
      ],
      "metadata": {
        "id": "qaDeu8nBgcwe"
      },
      "execution_count": null,
      "outputs": []
    },
    {
      "cell_type": "code",
      "source": [
        "# Entreno el modelo\n",
        "regresor.fit(X_train, y_train);"
      ],
      "metadata": {
        "id": "FGXbDWKSgiXX"
      },
      "execution_count": null,
      "outputs": []
    },
    {
      "cell_type": "code",
      "source": [
        "regresor.get_params()"
      ],
      "metadata": {
        "id": "B5P6MbvqglVe"
      },
      "execution_count": null,
      "outputs": []
    },
    {
      "cell_type": "code",
      "source": [
        "# Predigo los valores para el set de testeo\n",
        "y_pred = regresor.predict(X_test)\n",
        "\n",
        "y_pred\n",
        ""
      ],
      "metadata": {
        "id": "MJt4IHHVgo3W"
      },
      "execution_count": null,
      "outputs": []
    },
    {
      "cell_type": "code",
      "source": [
        "# Calculo el error medio absoluto\n",
        "mean_absolute_error(y_test, y_pred)"
      ],
      "metadata": {
        "id": "j_JWWNZ1grpf"
      },
      "execution_count": null,
      "outputs": []
    },
    {
      "cell_type": "code",
      "source": [
        "mape = np.mean(np.abs((y_test - y_pred) / y_test)) * 100\n",
        "print(f'MAPE: {mape:.2f}%')"
      ],
      "metadata": {
        "id": "7Jze8mKZgudK"
      },
      "execution_count": null,
      "outputs": []
    },
    {
      "cell_type": "code",
      "source": [
        "#Gráfico de árbol\n",
        "\n",
        "import matplotlib.pyplot as plt\n",
        "!pip install scikit-learn matplotlib\n",
        "\n",
        "from sklearn.tree import plot_tree\n",
        "\n",
        "# Asumo que ya tienes un modelo de RandomForestRegressor entrenado llamado 'regresor'\n",
        "# y que 'lista_atributos' contiene los nombres de las características.\n",
        "\n",
        "# Asegúrate de que el modelo es un RandomForestRegressor\n",
        "if isinstance(regresor, RandomForestRegressor):\n",
        "  # Visualiza el primer árbol del bosque\n",
        "  plt.figure(figsize=(20, 10))\n",
        "  plot_tree(regresor.estimators_[0],\n",
        "            feature_names=lista_atributos.tolist(),  # Asegúrate de que sea una lista\n",
        "            filled=True,\n",
        "            rounded=True,\n",
        "            fontsize=8)\n",
        "  plt.title(\"Primer Árbol del Random Forest\")\n",
        "  plt.show()\n",
        "else:\n",
        "  print(\"El modelo 'regresor' no es un RandomForestRegressor.\")"
      ],
      "metadata": {
        "id": "19Z9gPQpgxOl"
      },
      "execution_count": null,
      "outputs": []
    },
    {
      "cell_type": "markdown",
      "source": [
        "### **Support Vector Machine**"
      ],
      "metadata": {
        "id": "vyjD6bnXgzbr"
      }
    },
    {
      "cell_type": "code",
      "source": [
        "from sklearn.multioutput import MultiOutputRegressor\n",
        "from sklearn.svm import SVR\n",
        "from sklearn.metrics import mean_absolute_error"
      ],
      "metadata": {
        "id": "amlzkPDyg5Lm"
      },
      "execution_count": null,
      "outputs": []
    },
    {
      "cell_type": "code",
      "source": [
        "multi_svr = MultiOutputRegressor(SVR())\n",
        "multi_svr.fit(X_train, y_train)"
      ],
      "metadata": {
        "id": "fOR9Q6Kkg7mC"
      },
      "execution_count": null,
      "outputs": []
    },
    {
      "cell_type": "code",
      "source": [
        "multi_svr.get_params()"
      ],
      "metadata": {
        "id": "TK8Cc-q_g_oW"
      },
      "execution_count": null,
      "outputs": []
    },
    {
      "cell_type": "code",
      "source": [
        "y_pred_svr = multi_svr.predict(X_test)\n",
        "\n",
        "y_pred_svr"
      ],
      "metadata": {
        "id": "92lwB6tthB9z"
      },
      "execution_count": null,
      "outputs": []
    },
    {
      "cell_type": "code",
      "source": [
        "# Calculo el error medio absoluto\n",
        "mean_absolute_error(y_test, y_pred_svr)"
      ],
      "metadata": {
        "id": "-aWvw8sMhEYG"
      },
      "execution_count": null,
      "outputs": []
    },
    {
      "cell_type": "code",
      "source": [
        "# gráfico support vector machine\n",
        "\n",
        "import matplotlib.pyplot as plt\n",
        "# Visualizar los resultados para 'Produccion de Petroleo' (primera columna de y)\n",
        "plt.figure(figsize=(8, 5))\n",
        "plt.scatter(y_test[:, 0], y_pred_svr[:, 0], alpha=0.5)\n",
        "plt.xlabel('Producción de Petróleo Real')\n",
        "plt.ylabel('Producción de Petróleo Predicha')\n",
        "plt.title('Producción de Petróleo Real vs. Predicha (SVR)')\n",
        "plt.grid(True)\n",
        "plt.show()\n",
        "\n",
        "# Visualizar los resultados para 'Produccion de Gas' (segunda columna de y)\n",
        "plt.figure(figsize=(8, 5))\n",
        "plt.scatter(y_test[:, 1], y_pred_svr[:, 1], alpha=0.5, color='orange')\n",
        "plt.xlabel('Producción de Gas Real')\n",
        "plt.ylabel('Producción de Gas Predicha')\n",
        "plt.title('Producción de Gas Real vs. Predicha (SVR)')\n",
        "plt.grid(True)\n",
        "plt.show()\n",
        "\n",
        "# También puedes visualizar la distribución de los errores\n",
        "errors_petroleo_svr = y_test[:, 0] - y_pred_svr[:, 0]\n",
        "errors_gas_svr = y_test[:, 1] - y_pred_svr[:, 1]\n",
        "\n",
        "plt.figure(figsize=(8, 5))\n",
        "sns.histplot(errors_petroleo_svr, kde=True, label='Errores Petróleo')\n",
        "sns.histplot(errors_gas_svr, kde=True, label='Errores Gas', color='orange')\n",
        "plt.xlabel('Errores de Predicción (SVR)')\n",
        "plt.ylabel('Frecuencia')\n",
        "plt.title('Distribución de los Errores de Predicción (SVR)')\n",
        "plt.legend()\n",
        "plt.grid(True)\n",
        "plt.show()"
      ],
      "metadata": {
        "id": "_2GrPplchHpB"
      },
      "execution_count": null,
      "outputs": []
    },
    {
      "cell_type": "markdown",
      "source": [
        "### **XGBoost**"
      ],
      "metadata": {
        "id": "hs6lgiNshKge"
      }
    },
    {
      "cell_type": "code",
      "source": [
        "from xgboost import XGBRegressor"
      ],
      "metadata": {
        "id": "kpwox5GshJ7h"
      },
      "execution_count": null,
      "outputs": []
    },
    {
      "cell_type": "code",
      "source": [
        "modelo_xgb = XGBRegressor(\n",
        "    n_estimators=300,\n",
        "    max_depth=3,\n",
        "    learning_rate=0.3,\n",
        "    subsample=1.0,\n",
        "    colsample_bytree=1.0,\n",
        "    objective='reg:squarederror',  # Para regresión\n",
        "    random_state=42\n",
        ")"
      ],
      "metadata": {
        "id": "r--04fBThR05"
      },
      "execution_count": null,
      "outputs": []
    },
    {
      "cell_type": "code",
      "source": [
        "modelo_xgb.fit(X_train, y_train)"
      ],
      "metadata": {
        "id": "8vzCNff4hUqW"
      },
      "execution_count": null,
      "outputs": []
    },
    {
      "cell_type": "code",
      "source": [
        "y_pred_xgb = modelo_xgb.predict(X_test)"
      ],
      "metadata": {
        "id": "Pk7F7pelhZCp"
      },
      "execution_count": null,
      "outputs": []
    },
    {
      "cell_type": "code",
      "source": [
        "from sklearn.metrics import mean_absolute_error, mean_squared_error, r2_score\n",
        "\n",
        "mae = mean_absolute_error(y_test, y_pred_xgb)\n",
        "rmse = np.sqrt(mean_squared_error(y_test, y_pred_xgb))  # Esto equivale a squared=False\n",
        "r2 = r2_score(y_test, y_pred_xgb)\n",
        "\n",
        "print(f\"MAE: {mae}\")\n",
        "print(f\"RMSE: {rmse}\")\n",
        "print(f\"R²: {r2}\")\n",
        ""
      ],
      "metadata": {
        "id": "rn-TQ4vChbnx"
      },
      "execution_count": null,
      "outputs": []
    },
    {
      "cell_type": "markdown",
      "source": [
        "### **Optimización: Gridsearch**"
      ],
      "metadata": {
        "id": "2GnogLvDhdx6"
      }
    },
    {
      "cell_type": "code",
      "source": [
        "from sklearn.model_selection import GridSearchCV\n",
        "from xgboost import XGBRegressor\n",
        "\n",
        "param_grid = {\n",
        "    'n_estimators': [50, 100, 200],\n",
        "    'max_depth': [3, 5, 10],\n",
        "    'learning_rate': [0.01, 0.1, 0.2],\n",
        "    'subsample': [0.7, 0.9, 1],\n",
        "    'colsample_bytree': [0.7, 0.9, 1]\n",
        "}\n",
        "\n",
        "xgb = XGBRegressor(random_state=42)\n",
        "\n",
        "grid_search = GridSearchCV(estimator=xgb, param_grid=param_grid,\n",
        "                           cv=3, scoring='neg_mean_absolute_error', n_jobs=-1)\n",
        "\n",
        "grid_search.fit(X_train, y_train)\n",
        "print(\"Mejores parámetros:\", grid_search.best_params_)"
      ],
      "metadata": {
        "id": "XkbuQ1Edhdey"
      },
      "execution_count": null,
      "outputs": []
    },
    {
      "cell_type": "code",
      "source": [
        "best_model = grid_search.best_estimator_"
      ],
      "metadata": {
        "id": "5LCIe5HNhmGe"
      },
      "execution_count": null,
      "outputs": []
    },
    {
      "cell_type": "code",
      "source": [
        "y_pred = best_model.predict(X_test)\n",
        "\n",
        "from sklearn.metrics import mean_absolute_error, mean_squared_error, r2_score\n",
        "import numpy as np\n",
        "\n",
        "mae = mean_absolute_error(y_test, y_pred)\n",
        "rmse = np.sqrt(mean_squared_error(y_test, y_pred))\n",
        "r2 = r2_score(y_test, y_pred)\n",
        "\n",
        "print(f\"MAE: {mae}\")\n",
        "print(f\"RMSE: {rmse}\")\n",
        "print(f\"R²: {r2}\")"
      ],
      "metadata": {
        "id": "m7ZpCxDyhpBa"
      },
      "execution_count": null,
      "outputs": []
    },
    {
      "cell_type": "code",
      "source": [
        "plt.scatter(y_test, y_pred, alpha=0.5)\n",
        "plt.xlabel(\"Producción Real\")\n",
        "plt.ylabel(\"Producción Predicha\")\n",
        "plt.title(\"Producción Real vs. Predicha (XGBoost Optimizado)\")\n",
        "plt.grid(True)\n",
        "plt.show()"
      ],
      "metadata": {
        "id": "KOYatSzvhtDe"
      },
      "execution_count": null,
      "outputs": []
    },
    {
      "cell_type": "code",
      "source": [
        "# prompt: me haces un plot de residuos para ver donde se equivoca\n",
        "\n",
        "import pandas as pd\n",
        "import matplotlib.pyplot as plt\n",
        "# Calcular los residuos del modelo XGBoost optimizado\n",
        "residuals_xgb = y_test - y_pred\n",
        "\n",
        "# Crear un DataFrame con los residuos para facilitar el ploteo\n",
        "residuals_xgb_df = pd.DataFrame(residuals_xgb, columns=['Residuos Petroleo (XGB)', 'Residuos Gas (XGB)'])\n",
        "\n",
        "# Crear boxplots para los residuos del modelo XGBoost\n",
        "plt.figure(figsize=(10, 6))\n",
        "sns.boxplot(data=residuals_xgb_df)\n",
        "plt.title('Análisis de Residuos - Boxplot (XGBoost Optimizado)')\n",
        "plt.ylabel('Residuos')\n",
        "plt.show()\n",
        "\n",
        "# Graficar los residuos frente a los valores predichos\n",
        "plt.figure(figsize=(12, 6))\n",
        "\n",
        "plt.subplot(1, 2, 1)\n",
        "plt.scatter(y_pred[:, 0], residuals_xgb[:, 0], alpha=0.5)\n",
        "plt.axhline(y=0, color='r', linestyle='--')\n",
        "plt.xlabel('Producción de Petróleo Predicha (XGB)')\n",
        "plt.ylabel('Residuos de Petróleo (XGB)')\n",
        "plt.title('Residuos vs. Predicciones (Petróleo - XGBoost Optimizado)')\n",
        "plt.grid(True)\n",
        "\n",
        "plt.subplot(1, 2, 2)\n",
        "plt.scatter(y_pred[:, 1], residuals_xgb[:, 1], alpha=0.5, color='orange')\n",
        "plt.axhline(y=0, color='r', linestyle='--')\n",
        "plt.xlabel('Producción de Gas Predicha (XGB)')\n",
        "plt.ylabel('Residuos de Gas (XGB)')\n",
        "plt.title('Residuos vs. Predicciones (Gas - XGBoost Optimizado)')\n",
        "plt.grid(True)\n",
        "\n",
        "plt.tight_layout()\n",
        "plt.show()\n",
        "\n",
        "# Histograma de los residuos para ver su distribución\n",
        "plt.figure(figsize=(12, 6))\n",
        "\n",
        "plt.subplot(1, 2, 1)\n",
        "sns.histplot(residuals_xgb[:, 0], kde=True, bins=30)\n",
        "plt.title('Distribución de Residuos de Petróleo (XGBoost Optimizado)')\n",
        "plt.xlabel('Residuos de Petróleo')\n",
        "plt.ylabel('Frecuencia')\n",
        "\n",
        "plt.subplot(1, 2, 2)\n",
        "sns.histplot(residuals_xgb[:, 1], kde=True, bins=30, color='orange')\n",
        "plt.title('Distribución de Residuos de Gas (XGBoost Optimizado)')\n",
        "plt.xlabel('Residuos de Gas')\n",
        "plt.ylabel('Frecuencia')\n",
        "\n",
        "plt.tight_layout()\n",
        "plt.show()"
      ],
      "metadata": {
        "id": "Qha4aeSGhx8r"
      },
      "execution_count": null,
      "outputs": []
    }
  ]
}