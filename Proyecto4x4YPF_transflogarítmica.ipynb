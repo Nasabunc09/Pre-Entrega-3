{
  "nbformat": 4,
  "nbformat_minor": 0,
  "metadata": {
    "colab": {
      "provenance": [],
      "authorship_tag": "ABX9TyMZt2lEHetma8ui5BzHDB2O",
      "include_colab_link": true
    },
    "kernelspec": {
      "name": "python3",
      "display_name": "Python 3"
    },
    "language_info": {
      "name": "python"
    }
  },
  "cells": [
    {
      "cell_type": "markdown",
      "metadata": {
        "id": "view-in-github",
        "colab_type": "text"
      },
      "source": [
        "<a href=\"https://colab.research.google.com/github/antonellafontanetto/Pre-Entrega-3/blob/main/Proyecto4x4YPF_transflogar%C3%ADtmica.ipynb\" target=\"_parent\"><img src=\"https://colab.research.google.com/assets/colab-badge.svg\" alt=\"Open In Colab\"/></a>"
      ]
    },
    {
      "cell_type": "markdown",
      "source": [
        "Proyecto 4x4 YPF - Primer pilar Vaca Muerta\n",
        "El proyecto de modelado busca seguir la linea de pensamiento de desarrollo de la compañía YPF, en la actualidad este proyecto plantea cuadruplicar el crecimiento de la firma en los próximos 4 años. En primordial que este objetivo esta centrado en 4 pilares, del cual solo vamos a focalizar en el primero, que es el crecimiento de Vaca Muerta a corto plazo.\n",
        "\n",
        "La estrategia se basa en reducir costos operativos, optimizar los tiempos de perforación y adoptar un enfoque más eficiente en la gestión financiera. La compañía ha logrado reducir los tiempos de perforación de aproximadamente un año a 170 días, mediante mejoras técnicas y operativas.\n",
        "\n",
        "Este plan de transformación busca posicionar a YPF como una empresa más eficiente, rentable y alineada con las tendencias internacionales del sector energético, con una visión clara en el desarrollo del shale en Argentina.\n",
        "\n",
        "Modelado\n",
        "En la pre entrega 2, realizamos la transformación de todas las features utilizando One Hot Encoder, ahora vamos a limpiar y decidir en función al análisis exploratorio que features tener en consideración para el modelado.\n",
        "\n",
        "Como observamos anteriormente tanto la producción de petróleo como la producción de gas son dos datos que queremos predecir para los próximos 4 años, sin embargo el análisis estará centrado en la Cuenca Neuquina, es decir, Vaca Muerta y las cinco principales áreas de permiso de concesión tanto para la producción de petróleo como para la producción de gas.\n",
        "\n",
        "Así como también tenemos que mencionar que el dataset está centrado únicamente en la producción de lo no convencional, es decir, de aquella extracción que requiere tecnologías más avanzadas, costosas o intensivas en recursos debido a las características del yacimiento o del propio hidrocarburo.\n",
        "\n",
        "Finalmente, cabe mencionar que la producción de petróleo y gas se sujeta a dos subtipos de recursos, estos son shale y tight, los mismos se diferencian según el tipo de roca y suelen requerir técnicas como la fractura hidráulica (fracking) para su extracción. Mientras que el shale se extrae de la roca sedimentaria rica en materia orgánica que actúa como fuente y reservorio del hidrocarburo, el tight se encuentra en rocas porosas pero de baja permeabilidad, como areniscas o calizas muy cementadas."
      ],
      "metadata": {
        "id": "gB8JL9-Znc3b"
      }
    },
    {
      "cell_type": "code",
      "execution_count": null,
      "metadata": {
        "id": "jSmwOjignUG1"
      },
      "outputs": [],
      "source": [
        "#descargamos todas las librerías necesarias para el desarrollo del proyecto\n",
        "import pandas as pd\n",
        "import numpy as np\n",
        "import matplotlib.pyplot as plt\n",
        "import seaborn as sns\n",
        "from scipy import stats"
      ]
    },
    {
      "cell_type": "code",
      "source": [
        "#Cargamos el dataset transformado en la segunda pre-entrega\n",
        "Produccion_ypf = pd.read_csv('/content/prod_encoded_df.csv')\n",
        "\n",
        "#Aplicamos la función head() para visualizar las primeras 5 observaciones del dataset\n",
        "Produccion_ypf.head().astype(int)"
      ],
      "metadata": {
        "id": "bpUVZhWLnkfe"
      },
      "execution_count": null,
      "outputs": []
    },
    {
      "cell_type": "code",
      "source": [
        "#Con la función columns podemos observar mejor el nombre de todas las columnas del dataset, que en este caso son 47 columnas\n",
        "Produccion_ypf.columns.tolist()"
      ],
      "metadata": {
        "id": "kIlBe--8nnp1"
      },
      "execution_count": null,
      "outputs": []
    },
    {
      "cell_type": "code",
      "source": [
        "#Creamos una copia del dataset original\n",
        "Produccion_ypf_copia = Produccion_ypf.copy()\n",
        "\n",
        "columnas_a_eliminar = [\n",
        "    'Tipo de pozo_Inyección de Agua',\n",
        "    'Tipo de pozo_Otro tipo',\n",
        "    'Tipo de pozo_Sumidero',\n",
        "    'Tipo de recurso_NO CONVENCIONAL',\n",
        "    'Producción de agua',\n",
        "    'Area de permiso de concesion_AGUADA DEL CHAÑAR',\n",
        "    'Area de permiso de concesion_AL NORTE DE LA DORSAL',\n",
        "    'Area de permiso de concesion_BAJO DEL TORO',\n",
        "    'Area de permiso de concesion_CERRO ARENA ',\n",
        "    'Area de permiso de concesion_CERRO LAS MINAS ',\n",
        "    'Area de permiso de concesion_CERRO MANRIQUE',\n",
        "    'Area de permiso de concesion_CHIHUIDO DE LA SIERRA NEGRA',\n",
        "    'Area de permiso de concesion_CN VII A',\n",
        "    'Area de permiso de concesion_DADIN',\n",
        "    'Area de permiso de concesion_BAJO DEL TORO NORTE',\n",
        "    'Area de permiso de concesion_ESTACION FERNANDEZ ORO',\n",
        "    'Area de permiso de concesion_FILO MORADO',\n",
        "    'Area de permiso de concesion_LA ANGOSTURA SUR I',\n",
        "    'Area de permiso de concesion_LA ANGOSTURA SUR II',\n",
        "    'Area de permiso de concesion_LA RIBERA BLOQUE I',\n",
        "    'Area de permiso de concesion_LA RIBERA BLOQUE II',\n",
        "    'Area de permiso de concesion_LAS TACANAS'\n",
        "]\n",
        "\n",
        "#Con la función drop eliminamos las columnas que consideramos que no son necesarias para el análisis, en este caso solo dejamos las principales áreas de permiso de concesión por producción de petróleo y gas\n",
        "Produccion_ypf = Produccion_ypf.drop(columns=columnas_a_eliminar, errors='ignore')\n",
        "\n",
        "Produccion_ypf.head()"
      ],
      "metadata": {
        "id": "hZhg5nWwntcG"
      },
      "execution_count": null,
      "outputs": []
    },
    {
      "cell_type": "code",
      "source": [
        "Produccion_ypf.astype(int) #aplicamos astype para visualizar los datos en números enteros"
      ],
      "metadata": {
        "id": "JN6iLLRKny2-"
      },
      "execution_count": null,
      "outputs": []
    },
    {
      "cell_type": "code",
      "source": [
        "Produccion_ypf.columns.tolist() #Nuevamente aplicamos la función columns para visualizar como quedó el dataset con las columnas eliminadas, ahora son 29 columnas"
      ],
      "metadata": {
        "id": "1A8Tosr-oHee"
      },
      "execution_count": null,
      "outputs": []
    },
    {
      "cell_type": "markdown",
      "source": [
        "### **Regresión Lineal**"
      ],
      "metadata": {
        "id": "dJrL1twooNqF"
      }
    },
    {
      "cell_type": "code",
      "source": [
        "Produccion_ypf_copia2 = Produccion_ypf.copy() #es la copia del dataframe nuevo que si contiene Produccion de petróleo y Producción de gas"
      ],
      "metadata": {
        "id": "qL9s5bLnoSfl"
      },
      "execution_count": null,
      "outputs": []
    },
    {
      "cell_type": "code",
      "source": [
        "x = Produccion_ypf.drop(['Produccion de Petroleo','Produccion de Gas'], axis=1)"
      ],
      "metadata": {
        "id": "UjihGAwLoZfD"
      },
      "execution_count": null,
      "outputs": []
    },
    {
      "cell_type": "code",
      "source": [
        "x.head()"
      ],
      "metadata": {
        "id": "-WsjkItJobrt"
      },
      "execution_count": null,
      "outputs": []
    },
    {
      "cell_type": "code",
      "source": [
        "lista_atributos = x.columns"
      ],
      "metadata": {
        "id": "xxl4TdZ1ofAl"
      },
      "execution_count": null,
      "outputs": []
    },
    {
      "cell_type": "code",
      "source": [
        "y = Produccion_ypf[['Produccion de Petroleo','Produccion de Gas']]"
      ],
      "metadata": {
        "id": "diNGI5Bkoi81"
      },
      "execution_count": null,
      "outputs": []
    },
    {
      "cell_type": "code",
      "source": [
        "# Transformación logarítmica de la variable objetivo\n",
        "y_log = np.log1p(y)  # log(1 + y), para evitar problemas con valores cero"
      ],
      "metadata": {
        "id": "IenwFj-LomFd"
      },
      "execution_count": null,
      "outputs": []
    },
    {
      "cell_type": "code",
      "source": [
        "x, y =np.array(x), np.array(y_log)"
      ],
      "metadata": {
        "id": "YN07VYyeooYS"
      },
      "execution_count": null,
      "outputs": []
    },
    {
      "cell_type": "code",
      "source": [
        "x"
      ],
      "metadata": {
        "id": "VeocyIC0or_-"
      },
      "execution_count": null,
      "outputs": []
    },
    {
      "cell_type": "code",
      "source": [
        "y_log[:10]"
      ],
      "metadata": {
        "id": "1iP_Bc5oouvj"
      },
      "execution_count": null,
      "outputs": []
    },
    {
      "cell_type": "markdown",
      "source": [
        "### **Separando Train-Test**"
      ],
      "metadata": {
        "id": "RTQz3kw7ox4q"
      }
    },
    {
      "cell_type": "code",
      "source": [
        "# Importamos la librearia para separar el dataset.\n",
        "from sklearn.model_selection import train_test_split"
      ],
      "metadata": {
        "id": "Kl-zW9HOo5Ch"
      },
      "execution_count": null,
      "outputs": []
    },
    {
      "cell_type": "code",
      "source": [
        "X_train, X_test, y_train_log, y_test_log = train_test_split(x, y_log, test_size=0.2,\n",
        "                                                    random_state=42)  #un numero aleatorio para fijar cuantas veces testeamos"
      ],
      "metadata": {
        "id": "PGPrLcY5pABq"
      },
      "execution_count": null,
      "outputs": []
    },
    {
      "cell_type": "code",
      "source": [
        "x.shape"
      ],
      "metadata": {
        "id": "71J2Qkm6pCeW"
      },
      "execution_count": null,
      "outputs": []
    },
    {
      "cell_type": "code",
      "source": [
        "X_train.shape"
      ],
      "metadata": {
        "id": "_JT_3npYpDPi"
      },
      "execution_count": null,
      "outputs": []
    },
    {
      "cell_type": "code",
      "source": [
        "y_test_log.shape"
      ],
      "metadata": {
        "id": "LYdLKJhepFlm"
      },
      "execution_count": null,
      "outputs": []
    },
    {
      "cell_type": "code",
      "source": [
        "X_test.shape"
      ],
      "metadata": {
        "id": "VYqomBXGpH9z"
      },
      "execution_count": null,
      "outputs": []
    },
    {
      "cell_type": "code",
      "source": [
        "from sklearn.linear_model import LinearRegression\n",
        "\n",
        "# Crear el modelo\n",
        "model = LinearRegression()\n",
        "\n",
        "# Entrenar el modelo\n",
        "model.fit(X_train, y_train_log)"
      ],
      "metadata": {
        "id": "jQo33w_ApMEq"
      },
      "execution_count": null,
      "outputs": []
    },
    {
      "cell_type": "code",
      "source": [
        "#predicción en escala logarítmica\n",
        "y_pred_log = model.predict(X_test)"
      ],
      "metadata": {
        "id": "UIgesPV8pQjn"
      },
      "execution_count": null,
      "outputs": []
    },
    {
      "cell_type": "code",
      "source": [
        "# Volver a la escala original\n",
        "y_pred = np.expm1(y_pred_log)  # inversa de log1p: exp(y) - 1\n",
        "y_test = np.expm1(y_test_log)"
      ],
      "metadata": {
        "id": "O67dZJU5pS-x"
      },
      "execution_count": null,
      "outputs": []
    },
    {
      "cell_type": "code",
      "source": [
        "from sklearn.metrics import mean_absolute_error, mean_squared_error, r2_score\n",
        "\n",
        "mae = mean_absolute_error(y_test, y_pred)\n",
        "rmse = np.sqrt(mean_squared_error(y_test, y_pred))\n",
        "r2 = r2_score(y_test, y_pred)\n",
        "\n",
        "print(f\"MAE: {mae}\")\n",
        "print(f\"RMSE: {rmse}\")\n",
        "print(f\"R²: {r2}\")"
      ],
      "metadata": {
        "id": "W8Alenu_pVx5"
      },
      "execution_count": null,
      "outputs": []
    },
    {
      "cell_type": "code",
      "source": [
        "import numpy as np\n",
        "import pandas as pd\n",
        "import seaborn as sns\n",
        "import matplotlib.pyplot as plt\n",
        "\n",
        "# Verificamos forma de y_test y y_pred\n",
        "print(\"Forma de y_test:\", y_test.shape)\n",
        "print(\"Forma de y_pred:\", y_pred.shape)\n",
        "\n",
        "# Aseguramos que y_test y y_pred son arrays 2D\n",
        "y_test = np.array(y_test)\n",
        "y_pred = np.array(y_pred)\n",
        "\n",
        "# Confirmar que tienen 2 columnas\n",
        "if y_test.shape[1] == 2 and y_pred.shape[1] == 2:\n",
        "    # Crear DataFrames con nombres claros\n",
        "    y_test_df = pd.DataFrame(y_test, columns=['Petróleo', 'Gas'])\n",
        "    y_pred_df = pd.DataFrame(y_pred, columns=['Petróleo', 'Gas'])\n",
        "\n",
        "    # Calcular los residuos\n",
        "    residuals_df = y_test_df - y_pred_df\n",
        "    residuals_df.columns = ['Residuos Petróleo', 'Residuos Gas']\n",
        "\n",
        "    # Transformar a formato largo para seaborn\n",
        "    residuals_long = residuals_df.melt(var_name='Variable', value_name='Residuo')\n",
        "\n",
        "    # Asegurar que no hay NaN\n",
        "    residuals_long.dropna(inplace=True)\n",
        "\n",
        "    # Graficar\n",
        "    plt.figure(figsize=(10, 6))\n",
        "    sns.boxplot(x='Variable', y='Residuo', data=residuals_long)\n",
        "    plt.title('Análisis de Residuos - Boxplot por Variable')\n",
        "    plt.ylabel('Residuos')\n",
        "    plt.show()\n",
        "else:\n",
        "    print(\"Error: y_test o y_pred no tienen 2 columnas. Revisa la forma del modelo.\")"
      ],
      "metadata": {
        "id": "w2_ZS_akpZlF"
      },
      "execution_count": null,
      "outputs": []
    },
    {
      "cell_type": "code",
      "source": [
        "import matplotlib.pyplot as plt\n",
        "# Asumiendo que ya tienes un modelo de regresión entrenado (ej: RandomForestRegressor)\n",
        "# Aquí se muestra un ejemplo genérico de cómo podrías generar y visualizar las predicciones.\n",
        "# Necesitarás tener un modelo entrenado llamado 'model'.\n",
        "\n",
        "# Si no tienes un modelo entrenado, descomenta las siguientes líneas y adapta el código:\n",
        "# from sklearn.ensemble import RandomForestRegressor\n",
        "# model = RandomForestRegressor(n_estimators=100, random_state=42)\n",
        "# model.fit(X_train, y_train)\n",
        "\n",
        "# Hacer predicciones en el conjunto de prueba\n",
        "y_pred = model.predict(X_test)\n",
        "\n",
        "# Visualizar los resultados para 'Produccion de Petroleo' (primera columna de y)\n",
        "plt.figure(figsize=(8, 5))\n",
        "plt.scatter(y_test[:, 0], y_pred[:, 0], alpha=0.5)\n",
        "plt.xlabel('Producción de Petróleo Real')\n",
        "plt.ylabel('Producción de Petróleo Predicha')\n",
        "plt.title('Producción de Petróleo Real vs. Predicha (Random Forest)')\n",
        "plt.grid(True)\n",
        "plt.show()\n",
        "\n",
        "# Visualizar los resultados para 'Produccion de Gas' (segunda columna de y)\n",
        "plt.figure(figsize=(8, 5))\n",
        "plt.scatter(y_test[:, 1], y_pred[:, 1], alpha=0.5, color='orange')\n",
        "plt.xlabel('Producción de Gas Real')\n",
        "plt.ylabel('Producción de Gas Predicha')\n",
        "plt.title('Producción de Gas Real vs. Predicha (Random Forest)')\n",
        "plt.grid(True)\n",
        "plt.show()\n",
        "\n",
        "# También puedes visualizar la distribución de los errores\n",
        "errors_petroleo = y_test[:, 0] - y_pred[:, 0]\n",
        "errors_gas = y_test[:, 1] - y_pred[:, 1]\n",
        "\n",
        "plt.figure(figsize=(8, 5))\n",
        "sns.histplot(errors_petroleo, kde=True, label='Errores Petróleo')\n",
        "sns.histplot(errors_gas, kde=True, label='Errores Gas', color='orange')\n",
        "plt.xlabel('Errores de Predicción')\n",
        "plt.ylabel('Frecuencia')\n",
        "plt.title('Distribución de los Errores de Predicción')\n",
        "plt.legend()\n",
        "plt.grid(True)\n",
        "plt.show()"
      ],
      "metadata": {
        "id": "oZNQXrhbpccC"
      },
      "execution_count": null,
      "outputs": []
    },
    {
      "cell_type": "markdown",
      "source": [
        "### **Random Forest**"
      ],
      "metadata": {
        "id": "Ho96c1Qxpg2G"
      }
    },
    {
      "cell_type": "code",
      "source": [
        "from sklearn.ensemble import RandomForestRegressor"
      ],
      "metadata": {
        "id": "cXEjYU3WplJN"
      },
      "execution_count": null,
      "outputs": []
    },
    {
      "cell_type": "code",
      "source": [
        "from sklearn.metrics import mean_absolute_error"
      ],
      "metadata": {
        "id": "dIGE7TAWpnkq"
      },
      "execution_count": null,
      "outputs": []
    },
    {
      "cell_type": "code",
      "source": [
        "# Inicializo el modelo\n",
        "regresor = RandomForestRegressor(criterion='absolute_error', random_state=25, n_estimators=20,max_depth=5,max_features='sqrt')"
      ],
      "metadata": {
        "id": "6qLnTXsCpp_F"
      },
      "execution_count": null,
      "outputs": []
    },
    {
      "cell_type": "code",
      "source": [
        "# Entreno el modelo\n",
        "regresor.fit(X_train, y_train_log);"
      ],
      "metadata": {
        "id": "nqH2joKspt4T"
      },
      "execution_count": null,
      "outputs": []
    },
    {
      "cell_type": "code",
      "source": [
        "regresor.get_params()"
      ],
      "metadata": {
        "id": "yFJKjzivpyhS"
      },
      "execution_count": null,
      "outputs": []
    },
    {
      "cell_type": "code",
      "source": [
        "# Predigo los valores para el set de testeo\n",
        "y_pred = regresor.predict(X_test)\n",
        "\n",
        "y_pred"
      ],
      "metadata": {
        "id": "WVSmUg9Sp1Om"
      },
      "execution_count": null,
      "outputs": []
    },
    {
      "cell_type": "code",
      "source": [
        "# Calculo el error medio absoluto\n",
        "mean_absolute_error(y_test, y_pred)"
      ],
      "metadata": {
        "id": "K6TjFiqnp2K9"
      },
      "execution_count": null,
      "outputs": []
    },
    {
      "cell_type": "code",
      "source": [
        "mape = np.mean(np.abs((y_test - y_pred) / y_test)) * 100  #Consultar si el error tiene que ver con que exista un dato valor a 0 entonces en la feature Producción de Petróleo y Producción de gas contiene algun 0 que hace que la división no se pueda realizar\n",
        "print(f'MAPE: {mape:.2f}%')"
      ],
      "metadata": {
        "id": "7m2k0Zo4p6PW"
      },
      "execution_count": null,
      "outputs": []
    },
    {
      "cell_type": "code",
      "source": [
        "# gráfico de arbol\n",
        "\n",
        "import matplotlib.pyplot as plt\n",
        "!pip install scikit-learn matplotlib\n",
        "\n",
        "from sklearn.tree import plot_tree\n",
        "\n",
        "# Asumo que ya tienes un modelo de RandomForestRegressor entrenado llamado 'regresor'\n",
        "# y que 'lista_atributos' contiene los nombres de las características.\n",
        "\n",
        "# Asegúrate de que el modelo es un RandomForestRegressor\n",
        "if isinstance(regresor, RandomForestRegressor):\n",
        "  # Visualiza el primer árbol del bosque\n",
        "  plt.figure(figsize=(20, 10))\n",
        "  plot_tree(regresor.estimators_[0],\n",
        "            feature_names=lista_atributos.tolist(),  # Asegúrate de que sea una lista\n",
        "            filled=True,\n",
        "            rounded=True,\n",
        "            fontsize=8)\n",
        "  plt.title(\"Primer Árbol del Random Forest\")\n",
        "  plt.show()\n",
        "else:\n",
        "  print(\"El modelo 'regresor' no es un RandomForestRegressor.\")"
      ],
      "metadata": {
        "id": "F13mA1-Vp9r6"
      },
      "execution_count": null,
      "outputs": []
    },
    {
      "cell_type": "markdown",
      "source": [
        "### **Support Vector Machine**"
      ],
      "metadata": {
        "id": "sBm-AYMWp_sa"
      }
    },
    {
      "cell_type": "code",
      "source": [
        "from sklearn.multioutput import MultiOutputRegressor\n",
        "from sklearn.svm import SVR\n",
        "from sklearn.metrics import mean_absolute_error"
      ],
      "metadata": {
        "id": "by3jKtaqqGZ-"
      },
      "execution_count": null,
      "outputs": []
    },
    {
      "cell_type": "code",
      "source": [
        "multi_svr = MultiOutputRegressor(SVR())\n",
        "multi_svr.fit(X_train, y_train_log)"
      ],
      "metadata": {
        "id": "uPu3L52NqJ_s"
      },
      "execution_count": null,
      "outputs": []
    },
    {
      "cell_type": "code",
      "source": [
        "multi_svr.get_params()"
      ],
      "metadata": {
        "id": "WUI6IswdqMj9"
      },
      "execution_count": null,
      "outputs": []
    },
    {
      "cell_type": "code",
      "source": [
        "y_pred_svr = multi_svr.predict(X_test)\n",
        "\n",
        "y_pred_svr"
      ],
      "metadata": {
        "id": "Q80AwrOdqQMC"
      },
      "execution_count": null,
      "outputs": []
    },
    {
      "cell_type": "code",
      "source": [
        "# Calculo el error medio absoluto\n",
        "mean_absolute_error(y_test, y_pred_svr)"
      ],
      "metadata": {
        "id": "ZijbFEAgqSlh"
      },
      "execution_count": null,
      "outputs": []
    },
    {
      "cell_type": "code",
      "source": [
        "# gráfico support vector machine\n",
        "\n",
        "import matplotlib.pyplot as plt\n",
        "# Visualizar los resultados para 'Produccion de Petroleo' (primera columna de y)\n",
        "plt.figure(figsize=(8, 5))\n",
        "plt.scatter(y_test[:, 0], y_pred_svr[:, 0], alpha=0.5)\n",
        "plt.xlabel('Producción de Petróleo Real')\n",
        "plt.ylabel('Producción de Petróleo Predicha')\n",
        "plt.title('Producción de Petróleo Real vs. Predicha (SVR)')\n",
        "plt.grid(True)\n",
        "plt.show()\n",
        "\n",
        "# Visualizar los resultados para 'Produccion de Gas' (segunda columna de y)\n",
        "plt.figure(figsize=(8, 5))\n",
        "plt.scatter(y_test[:, 1], y_pred_svr[:, 1], alpha=0.5, color='orange')\n",
        "plt.xlabel('Producción de Gas Real')\n",
        "plt.ylabel('Producción de Gas Predicha')\n",
        "plt.title('Producción de Gas Real vs. Predicha (SVR)')\n",
        "plt.grid(True)\n",
        "plt.show()\n",
        "\n",
        "# También puedes visualizar la distribución de los errores\n",
        "errors_petroleo_svr = y_test[:, 0] - y_pred_svr[:, 0]\n",
        "errors_gas_svr = y_test[:, 1] - y_pred_svr[:, 1]\n",
        "\n",
        "plt.figure(figsize=(8, 5))\n",
        "sns.histplot(errors_petroleo_svr, kde=True, label='Errores Petróleo')\n",
        "sns.histplot(errors_gas_svr, kde=True, label='Errores Gas', color='orange')\n",
        "plt.xlabel('Errores de Predicción (SVR)')\n",
        "plt.ylabel('Frecuencia')\n",
        "plt.title('Distribución de los Errores de Predicción (SVR)')\n",
        "plt.legend()\n",
        "plt.grid(True)\n",
        "plt.show()\n"
      ],
      "metadata": {
        "id": "4vSs_jQ0qVVe"
      },
      "execution_count": null,
      "outputs": []
    },
    {
      "cell_type": "markdown",
      "source": [
        "### **XGBoost**"
      ],
      "metadata": {
        "id": "niIOppcLqYWC"
      }
    },
    {
      "cell_type": "code",
      "source": [
        "from xgboost import XGBRegressor"
      ],
      "metadata": {
        "id": "KEZMXOGNqdbR"
      },
      "execution_count": null,
      "outputs": []
    },
    {
      "cell_type": "code",
      "source": [
        "modelo_xgb = XGBRegressor(\n",
        "    n_estimators=300,\n",
        "    max_depth=3,\n",
        "    learning_rate=0.3,\n",
        "    subsample=1.0,\n",
        "    colsample_bytree=1.0,\n",
        "    objective='reg:squarederror',  # Para regresión\n",
        "    random_state=42\n",
        ")"
      ],
      "metadata": {
        "id": "SMEGmopvqfsA"
      },
      "execution_count": null,
      "outputs": []
    },
    {
      "cell_type": "code",
      "source": [
        "modelo_xgb.fit(X_train, y_train_log)"
      ],
      "metadata": {
        "id": "gFUwCahYqiL-"
      },
      "execution_count": null,
      "outputs": []
    },
    {
      "cell_type": "code",
      "source": [
        "y_pred_xgb = modelo_xgb.predict(X_test)"
      ],
      "metadata": {
        "id": "xBWq_zxeqnSq"
      },
      "execution_count": null,
      "outputs": []
    },
    {
      "cell_type": "code",
      "source": [
        "\n",
        "from sklearn.metrics import mean_absolute_error, mean_squared_error, r2_score\n",
        "\n",
        "mae = mean_absolute_error(y_test, y_pred_xgb)\n",
        "rmse = np.sqrt(mean_squared_error(y_test, y_pred_xgb))  # Esto equivale a squared=False\n",
        "r2 = r2_score(y_test, y_pred_xgb)\n",
        "\n",
        "print(f\"MAE: {mae}\")\n",
        "print(f\"RMSE: {rmse}\")\n",
        "print(f\"R²: {r2}\")\n",
        ""
      ],
      "metadata": {
        "id": "F3mCB_yfqpqy"
      },
      "execution_count": null,
      "outputs": []
    },
    {
      "cell_type": "markdown",
      "source": [
        "### **Optimización: Gridsearch**"
      ],
      "metadata": {
        "id": "Ozgkm1yeqrnR"
      }
    },
    {
      "cell_type": "code",
      "source": [
        "from sklearn.model_selection import GridSearchCV\n",
        "from xgboost import XGBRegressor\n",
        "\n",
        "param_grid = {\n",
        "    'n_estimators': [50, 100, 200],\n",
        "    'max_depth': [3, 5, 10],\n",
        "    'learning_rate': [0.01, 0.1, 0.2],\n",
        "    'subsample': [0.7, 0.9, 1],\n",
        "    'colsample_bytree': [0.7, 0.9, 1]\n",
        "}\n",
        "\n",
        "xgb = XGBRegressor(random_state=42)\n",
        "\n",
        "grid_search = GridSearchCV(estimator=xgb, param_grid=param_grid,\n",
        "                           cv=3, scoring='neg_mean_absolute_error', n_jobs=-1)\n",
        "\n",
        "grid_search.fit(X_train, y_train_log)\n",
        "print(\"Mejores parámetros:\", grid_search.best_params_)"
      ],
      "metadata": {
        "id": "x0ElY5ZsqygV"
      },
      "execution_count": null,
      "outputs": []
    },
    {
      "cell_type": "code",
      "source": [
        "best_model = grid_search.best_estimator_"
      ],
      "metadata": {
        "id": "aW_dPfyOq17m"
      },
      "execution_count": null,
      "outputs": []
    },
    {
      "cell_type": "code",
      "source": [
        "y_pred = best_model.predict(X_test)\n",
        "\n",
        "from sklearn.metrics import mean_absolute_error, mean_squared_error, r2_score\n",
        "import numpy as np\n",
        "\n",
        "mae = mean_absolute_error(y_test, y_pred)\n",
        "rmse = np.sqrt(mean_squared_error(y_test, y_pred))\n",
        "r2 = r2_score(y_test, y_pred)\n",
        "\n",
        "print(f\"MAE: {mae}\")\n",
        "print(f\"RMSE: {rmse}\")\n",
        "print(f\"R²: {r2}\")"
      ],
      "metadata": {
        "id": "CABxXPQmq4k6"
      },
      "execution_count": null,
      "outputs": []
    },
    {
      "cell_type": "markdown",
      "source": [
        "La dispersión de los puntos muestra que el modelo tiende a subestimar las producciones altas. Muchas predicciones están muy por debajo de los valores reales cuando la producción real es alta (por ejemplo >200).\n",
        "\n",
        "También hay mucho ruido cuando la producción es baja: las predicciones varían mucho cuando la producción real está entre 0 y 100.\n",
        "\n",
        "Hay predicciones incluso negativas, lo cual puede ser un problema si la producción no puede ser menor a cero (tal vez el modelo necesita que le impongas restricciones o revises el preprocesamiento)."
      ],
      "metadata": {
        "id": "Ghx_ek8yrAj6"
      }
    },
    {
      "cell_type": "code",
      "source": [
        "plt.scatter(y_test, y_pred, alpha=0.5)\n",
        "plt.xlabel(\"Producción Real\")\n",
        "plt.ylabel(\"Producción Predicha\")\n",
        "plt.title(\"Producción Real vs. Predicha (XGBoost Optimizado)\")\n",
        "plt.grid(True)\n",
        "plt.show()"
      ],
      "metadata": {
        "id": "_P9KEN7Rq7_p"
      },
      "execution_count": null,
      "outputs": []
    },
    {
      "cell_type": "markdown",
      "source": [
        "### **Validación Cruzada: K-Fold**"
      ],
      "metadata": {
        "id": "X36Z6pjfrHfe"
      }
    },
    {
      "cell_type": "code",
      "source": [
        "from sklearn.model_selection import KFold, cross_val_score\n",
        "from sklearn.linear_model import LinearRegression\n",
        "from sklearn.metrics import mean_squared_error, make_scorer\n",
        "import numpy as np\n",
        "\n",
        "# Supongamos que y es un array o DataFrame con dos columnas: petróleo (col 0) y gas (col 1)\n",
        "\n",
        "# 1. Separar petróleo y gas\n",
        "y_petroleo = y[:, 0] if isinstance(y, np.ndarray) else y.iloc[:, 0]\n",
        "y_gas = y[:, 1] if isinstance(y, np.ndarray) else y.iloc[:, 1]\n",
        "\n",
        "# 2. Filtrar valores > 0 para poder aplicar log\n",
        "mask_petroleo = y_petroleo > 0\n",
        "mask_gas = y_gas > 0\n",
        "\n",
        "x_petroleo = x[mask_petroleo]\n",
        "y_petroleo_filtered = y_petroleo[mask_petroleo]\n",
        "y_petroleo_log = np.log(y_petroleo_filtered)\n",
        "\n",
        "x_gas = x[mask_gas]\n",
        "y_gas_filtered = y_gas[mask_gas]\n",
        "y_gas_log = np.log(y_gas_filtered)\n",
        "\n",
        "# 3. Definir función de error revertido (log → escala original)\n",
        "def rmse_log_model(y_true, y_pred_log):\n",
        "    y_pred = np.exp(y_pred_log)\n",
        "    return np.sqrt(mean_squared_error(y_true, y_pred))\n",
        "\n",
        "rmse_scorer = make_scorer(rmse_log_model, greater_is_better=False)\n",
        "\n",
        "# 4. Validación cruzada\n",
        "kf = KFold(n_splits=5, shuffle=True, random_state=42)\n",
        "model = LinearRegression()\n",
        "\n",
        "# 5. Cross-validation para petróleo\n",
        "scores_petroleo = cross_val_score(model, x_petroleo, y_petroleo_log, cv=kf, scoring=rmse_scorer)\n",
        "\n",
        "# 6. Cross-validation para gas\n",
        "scores_gas = cross_val_score(model, x_gas, y_gas_log, cv=kf, scoring=rmse_scorer)\n",
        "\n",
        "# 7. Mostrar resultados\n",
        "print(\"RMSE promedio petróleo:\", -np.mean(scores_petroleo))\n",
        "print(\"RMSE promedio gas:\", -np.mean(scores_gas))"
      ],
      "metadata": {
        "id": "ShsT9ucLrFLW"
      },
      "execution_count": null,
      "outputs": []
    }
  ]
}